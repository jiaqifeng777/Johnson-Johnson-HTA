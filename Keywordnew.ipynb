{
 "cells": [
  {
   "cell_type": "code",
   "execution_count": 3,
   "id": "f5c720d7-e682-431a-95be-a94cded395a5",
   "metadata": {},
   "outputs": [],
   "source": [
    "import fitz\n",
    "import pandas as pd\n",
    "import os\n",
    "import re\n",
    "from collections import Counter"
   ]
  },
  {
   "cell_type": "markdown",
   "id": "96f1e119-030f-4140-b807-1f71c325a6c7",
   "metadata": {},
   "source": [
    "## Read Dataframe"
   ]
  },
  {
   "cell_type": "code",
   "execution_count": 4,
   "id": "f4bfd371-9f3a-458d-8818-472951c3e5fb",
   "metadata": {},
   "outputs": [],
   "source": [
    "def read_recommendation_clean(file_name):\n",
    "    import nltk\n",
    "    from nltk.util import bigrams, trigrams, ngrams\n",
    "    # open document\n",
    "    pdf_document = fitz.open(file_name)\n",
    "    text = ''\n",
    "    # extraction markers\n",
    "    start_extraction = False\n",
    "    end_extraction = False\n",
    "    start_marker = \"1 \\nRecommendations\"\n",
    "    end_marker1 = \"Why the committee made these recommendations\"\n",
    "    end_marker2 = \"2 \\nThe technology\"\n",
    "    page_marker = \"© NICE 2023\"\n",
    "    \n",
    "    # Loop through the pages and extract text between \"1 Recommendation\" and \"2 The technology\"\n",
    "    for page_num in range(len(pdf_document)):\n",
    "        page = pdf_document[page_num]\n",
    "        page_text = page.get_text()\n",
    "        title_text = page_text[:page_text.find(\")\",0) + 1]\n",
    "        # Check for the start marker\n",
    "        if start_marker in page_text and '1.1' in page_text:\n",
    "            start_extraction = True\n",
    "            # Remove text before the start marker\n",
    "            page_text = page_text.split('1.1', 1)[-1]\n",
    "        if start_extraction == False:\n",
    "            continue\n",
    "        # Check for the end marker\n",
    "        if end_marker1 in page_text:\n",
    "            # Remove text after the end marker\n",
    "            page_text = page_text.split(end_marker1, 1)[0]\n",
    "            # Stop extraction\n",
    "            start_extraction = False\n",
    "        elif end_marker2 in page_text:\n",
    "            # Remove text after the end marker\n",
    "            page_text = page_text.split(end_marker2, 1)[0]\n",
    "            # Stop extraction\n",
    "            start_extraction = False\n",
    "        # remove the page footer\"\n",
    "        else:\n",
    "            page_text = page_text.split(page_marker, 1)[0]\n",
    "        #if title_text in page_text:\n",
    "            #page_text = page_text.replace(title_text,'')\n",
    "        page_text = re.sub(r'[^a-zA-Z -]', '', page_text)\n",
    "        text += page_text\n",
    "    return text"
   ]
  },
  {
   "cell_type": "code",
   "execution_count": 5,
   "id": "127c5eba-560f-494a-9fa9-e1b189c2cf8f",
   "metadata": {},
   "outputs": [],
   "source": [
    "# Read Labelled Data from csv\n",
    "lab_df = pd.read_csv('jnj_judgement.csv')\n",
    "#lab_df.set_index(lab_df.columns[0], inplace=True)\n",
    "train_df = lab_df[['title','JNJ Classification (manual)']].dropna()\n",
    "train_df['Content'] = train_df['title'].apply(lambda f: read_recommendation_clean(\"./Files/\" + f + \"/\" + f))"
   ]
  },
  {
   "cell_type": "markdown",
   "id": "95073f74-aeb9-470c-8b2e-023b5ef3b1d7",
   "metadata": {},
   "source": [
    "## Find Common Keywords"
   ]
  },
  {
   "cell_type": "code",
   "execution_count": 6,
   "id": "4636b139-f4d6-4889-9545-ce693b0fda49",
   "metadata": {},
   "outputs": [],
   "source": [
    "def extract_grams(df,num_gram):\n",
    "    import nltk\n",
    "    from nltk.util import ngrams\n",
    "    # tokenize content and title\n",
    "    tokenized_title = [word.lower() for text in df['title'].apply(lambda x: x.replace('-',' ')) for word in nltk.word_tokenize(text)]\n",
    "    tokenized_content = [word.lower() for text in df['Content'] for word in nltk.word_tokenize(text)]\n",
    "    \n",
    "    # Create ngrams for both content and title\n",
    "    content_grams = list(ngrams(tokenized_content, num_gram))\n",
    "    title_grams = list(ngrams(tokenized_title,num_gram))\n",
    "\n",
    "    # Find ngrams in tokenized_content but not in tokenized_title\n",
    "    filtered_content_grams = [gram for gram in content_grams if gram not in title_grams]\n",
    "    print(filtered_content_grams)\n",
    "    # Find the top ngrams\n",
    "    gram_counts = Counter(filtered_content_grams)\n",
    "    return gram_counts"
   ]
  },
  {
   "cell_type": "code",
   "execution_count": 7,
   "id": "67c9efe3-9307-4102-8792-fba08e40c2b4",
   "metadata": {},
   "outputs": [],
   "source": [
    "def extract_row_grams(row,title,content,num_gram):\n",
    "    import nltk\n",
    "    import numpy as np\n",
    "    from nltk.util import ngrams\n",
    "    # tokenize content and title\n",
    "    tokenized_title = nltk.word_tokenize(row[title].lower().replace('-', ' '))\n",
    "    tokenized_content = nltk.word_tokenize(row[content].lower().replace('-', ' '))\n",
    "    # Create ngrams for both content and title\n",
    "    content_grams = list(ngrams(tokenized_content, num_gram))\n",
    "    title_grams = list(ngrams(tokenized_title,num_gram))\n",
    "\n",
    "    # Find ngrams in tokenized_content but not in tokenized_title\n",
    "    filtered_content_grams = [gram for gram in content_grams if gram not in title_grams]\n",
    "    return list(set(filtered_content_grams))"
   ]
  },
  {
   "cell_type": "code",
   "execution_count": 8,
   "id": "92ef48b5-78cf-482f-bfc6-81d0fffb2da6",
   "metadata": {},
   "outputs": [],
   "source": [
    "def extract_grams(df,num_gram):\n",
    "    df['ngrams'] = df.apply(extract_row_grams, args=('title', 'Content', num_gram), axis=1)\n",
    "    gram_lst = []\n",
    "    for r in df['ngrams']:\n",
    "        for j in r:\n",
    "            gram_lst.append(j)\n",
    "    return Counter(gram_lst)"
   ]
  },
  {
   "cell_type": "code",
   "execution_count": 9,
   "id": "36061e68-e25b-45f2-af14-3e5494586796",
   "metadata": {},
   "outputs": [],
   "source": [
    "#def find_top_grams(gram_counts,num_top): \n",
    "    # Find the top ngrams\n",
    "#    top_gram = gram_counts.most_common(num_top)\n",
    "#    return top_gram"
   ]
  },
  {
   "cell_type": "code",
   "execution_count": 10,
   "id": "90892ca6-9c53-4fc7-b29a-eece6abc28d3",
   "metadata": {},
   "outputs": [],
   "source": [
    "def combine_and_sum_dicts(dicts, whole_dict):\n",
    "    #from collections import defaultdict\n",
    "    # Create a dict to store the combined values\n",
    "    combined_dict = {}    \n",
    "    # Iterate through each dictionary\n",
    "    for d in dicts:\n",
    "        # Iterate through key-value pairs in the dictionary\n",
    "        for key in d:\n",
    "            # Add the value to the corresponding key in the combined dictionary\n",
    "            combined_dict[key] = whole_dict[key]\n",
    "    print(combined_dict)\n",
    "    # Convert the defaultdict back to a regular dictionary\n",
    "    return combined_dict"
   ]
  },
  {
   "cell_type": "code",
   "execution_count": 11,
   "id": "8e62751c-9fe4-466f-bf4d-456999f03a1b",
   "metadata": {},
   "outputs": [],
   "source": [
    "def find_unique_dict(o_dict, whole_dict):\n",
    "    r_dict = {}\n",
    "    # build dict with grams as key and (count in this category, count in others) as value\n",
    "    for key, value in o_dict.items():\n",
    "        r_dict[key] = (value, whole_dict[key]-value)\n",
    "    # sort dict based on uniqueness and count\n",
    "    sorted_dict = dict(\n",
    "        sorted(r_dict.items(), key=lambda item: (item[1][1], -item[1][0])))\n",
    "    return sorted_dict"
   ]
  },
  {
   "cell_type": "code",
   "execution_count": 12,
   "id": "2d369212-0068-4826-92ac-217c46e6c9d7",
   "metadata": {},
   "outputs": [],
   "source": [
    "def find_unique_grams(df,num_gram, num_top):\n",
    "    # get the catergories of judgement\n",
    "    cat = df['JNJ Classification (manual)'].value_counts().index.tolist()\n",
    "    cat_lst = []\n",
    "    for c in cat:\n",
    "        # get most common k n-grams\n",
    "        df_c = df[df['JNJ Classification (manual)'] == c]\n",
    "        gram_cnt = extract_grams(df_c,num_gram)\n",
    "        top_gram = gram_cnt.most_common(num_top)\n",
    "        # transform into dict\n",
    "        top_gram_dict = {t[0]:t[1] for t in top_gram}\n",
    "        cat_lst.append(top_gram_dict)\n",
    "    # get the number of occurances of grams in all categories\n",
    "    combined_dict = dict(extract_grams(df,num_gram))\n",
    "    # add uniqueness to gram_dict of each category\n",
    "    cat_u_lst = []\n",
    "    for d in cat_lst:\n",
    "        u_dict = find_unique_dict(d, combined_dict)\n",
    "        # put gram and the count together into list \n",
    "        u_lst = [(key, value) for key, value in u_dict.items()]\n",
    "        cat_u_lst.append(u_lst)\n",
    "    # build dataframe\n",
    "    cat_dict = {key: value for key, value in zip(cat, cat_u_lst)}\n",
    "    return pd.DataFrame(cat_dict)"
   ]
  },
  {
   "cell_type": "code",
   "execution_count": 13,
   "id": "3a62d98d-fac4-46eb-8bff-b9e4c5021e71",
   "metadata": {},
   "outputs": [
    {
     "name": "stderr",
     "output_type": "stream",
     "text": [
      "/var/folders/g4/f_rwknw54f999f7fy8ttscqh0000gn/T/ipykernel_68160/616014495.py:2: SettingWithCopyWarning: \n",
      "A value is trying to be set on a copy of a slice from a DataFrame.\n",
      "Try using .loc[row_indexer,col_indexer] = value instead\n",
      "\n",
      "See the caveats in the documentation: https://pandas.pydata.org/pandas-docs/stable/user_guide/indexing.html#returning-a-view-versus-a-copy\n",
      "  df['ngrams'] = df.apply(extract_row_grams, args=('title', 'Content', num_gram), axis=1)\n",
      "/var/folders/g4/f_rwknw54f999f7fy8ttscqh0000gn/T/ipykernel_68160/616014495.py:2: SettingWithCopyWarning: \n",
      "A value is trying to be set on a copy of a slice from a DataFrame.\n",
      "Try using .loc[row_indexer,col_indexer] = value instead\n",
      "\n",
      "See the caveats in the documentation: https://pandas.pydata.org/pandas-docs/stable/user_guide/indexing.html#returning-a-view-versus-a-copy\n",
      "  df['ngrams'] = df.apply(extract_row_grams, args=('title', 'Content', num_gram), axis=1)\n",
      "/var/folders/g4/f_rwknw54f999f7fy8ttscqh0000gn/T/ipykernel_68160/616014495.py:2: SettingWithCopyWarning: \n",
      "A value is trying to be set on a copy of a slice from a DataFrame.\n",
      "Try using .loc[row_indexer,col_indexer] = value instead\n",
      "\n",
      "See the caveats in the documentation: https://pandas.pydata.org/pandas-docs/stable/user_guide/indexing.html#returning-a-view-versus-a-copy\n",
      "  df['ngrams'] = df.apply(extract_row_grams, args=('title', 'Content', num_gram), axis=1)\n"
     ]
    },
    {
     "data": {
      "text/html": [
       "<div>\n",
       "<style scoped>\n",
       "    .dataframe tbody tr th:only-of-type {\n",
       "        vertical-align: middle;\n",
       "    }\n",
       "\n",
       "    .dataframe tbody tr th {\n",
       "        vertical-align: top;\n",
       "    }\n",
       "\n",
       "    .dataframe thead th {\n",
       "        text-align: right;\n",
       "    }\n",
       "</style>\n",
       "<table border=\"1\" class=\"dataframe\">\n",
       "  <thead>\n",
       "    <tr style=\"text-align: right;\">\n",
       "      <th></th>\n",
       "      <th>Treatment Option</th>\n",
       "      <th>Not Supporting Routine Use</th>\n",
       "      <th>Routine Use</th>\n",
       "    </tr>\n",
       "  </thead>\n",
       "  <tbody>\n",
       "    <tr>\n",
       "      <th>0</th>\n",
       "      <td>((should, be, considered, as, an), (10, 0))</td>\n",
       "      <td>((not, enough, good, quality, evidence), (7, 0))</td>\n",
       "      <td>((by, an, average, of, per), (2, 0))</td>\n",
       "    </tr>\n",
       "    <tr>\n",
       "      <th>1</th>\n",
       "      <td>((be, considered, as, an, option), (9, 0))</td>\n",
       "      <td>((good, quality, evidence, to, support), (6, 0))</td>\n",
       "      <td>((person, this, cost, saving, assumes), (1, 0))</td>\n",
       "    </tr>\n",
       "    <tr>\n",
       "      <th>2</th>\n",
       "      <td>((is, recommended, as, an, option), (9, 0))</td>\n",
       "      <td>((is, not, enough, good, quality), (6, 0))</td>\n",
       "      <td>((for, adopting, gammacore, to, treat), (1, 0))</td>\n",
       "    </tr>\n",
       "    <tr>\n",
       "      <th>3</th>\n",
       "      <td>((considered, as, an, option, for), (8, 0))</td>\n",
       "      <td>((to, support, the, case, for), (14, 1))</td>\n",
       "      <td>((is, recommended, as, a, cost), (2, 4))</td>\n",
       "    </tr>\n",
       "    <tr>\n",
       "      <th>4</th>\n",
       "      <td>((as, an, option, for, people), (6, 0))</td>\n",
       "      <td>((support, the, case, for, routine), (13, 1))</td>\n",
       "      <td>((a, cost, saving, option, for), (2, 4))</td>\n",
       "    </tr>\n",
       "    <tr>\n",
       "      <th>5</th>\n",
       "      <td>((is, supported, by, the, evidence), (11, 1))</td>\n",
       "      <td>((the, case, for, routine, adoption), (13, 1))</td>\n",
       "      <td>((recommended, as, a, cost, saving), (2, 6))</td>\n",
       "    </tr>\n",
       "    <tr>\n",
       "      <th>6</th>\n",
       "      <td>((the, case, for, adopting, the), (11, 1))</td>\n",
       "      <td>((evidence, to, support, the, case), (11, 1))</td>\n",
       "      <td>((as, a, cost, saving, option), (2, 6))</td>\n",
       "    </tr>\n",
       "    <tr>\n",
       "      <th>7</th>\n",
       "      <td>((evidence, supports, the, case, for), (8, 2))</td>\n",
       "      <td>((is, recommended, to, address, uncertainties)...</td>\n",
       "      <td>((is, cost, saving, compared, with), (2, 7))</td>\n",
       "    </tr>\n",
       "    <tr>\n",
       "      <th>8</th>\n",
       "      <td>((supports, the, case, for, adopting), (8, 2))</td>\n",
       "      <td>((recommended, to, address, uncertainties, abo...</td>\n",
       "      <td>((evidence, supports, the, case, for), (2, 8))</td>\n",
       "    </tr>\n",
       "    <tr>\n",
       "      <th>9</th>\n",
       "      <td>((is, cost, saving, compared, with), (7, 2))</td>\n",
       "      <td>((routine, adoption, in, the, nhs), (7, 1))</td>\n",
       "      <td>((supports, the, case, for, adopting), (2, 8))</td>\n",
       "    </tr>\n",
       "  </tbody>\n",
       "</table>\n",
       "</div>"
      ],
      "text/plain": [
       "                                 Treatment Option  \\\n",
       "0     ((should, be, considered, as, an), (10, 0))   \n",
       "1      ((be, considered, as, an, option), (9, 0))   \n",
       "2     ((is, recommended, as, an, option), (9, 0))   \n",
       "3     ((considered, as, an, option, for), (8, 0))   \n",
       "4         ((as, an, option, for, people), (6, 0))   \n",
       "5   ((is, supported, by, the, evidence), (11, 1))   \n",
       "6      ((the, case, for, adopting, the), (11, 1))   \n",
       "7  ((evidence, supports, the, case, for), (8, 2))   \n",
       "8  ((supports, the, case, for, adopting), (8, 2))   \n",
       "9    ((is, cost, saving, compared, with), (7, 2))   \n",
       "\n",
       "                          Not Supporting Routine Use  \\\n",
       "0   ((not, enough, good, quality, evidence), (7, 0))   \n",
       "1   ((good, quality, evidence, to, support), (6, 0))   \n",
       "2         ((is, not, enough, good, quality), (6, 0))   \n",
       "3           ((to, support, the, case, for), (14, 1))   \n",
       "4      ((support, the, case, for, routine), (13, 1))   \n",
       "5     ((the, case, for, routine, adoption), (13, 1))   \n",
       "6      ((evidence, to, support, the, case), (11, 1))   \n",
       "7  ((is, recommended, to, address, uncertainties)...   \n",
       "8  ((recommended, to, address, uncertainties, abo...   \n",
       "9        ((routine, adoption, in, the, nhs), (7, 1))   \n",
       "\n",
       "                                       Routine Use  \n",
       "0             ((by, an, average, of, per), (2, 0))  \n",
       "1  ((person, this, cost, saving, assumes), (1, 0))  \n",
       "2  ((for, adopting, gammacore, to, treat), (1, 0))  \n",
       "3         ((is, recommended, as, a, cost), (2, 4))  \n",
       "4         ((a, cost, saving, option, for), (2, 4))  \n",
       "5     ((recommended, as, a, cost, saving), (2, 6))  \n",
       "6          ((as, a, cost, saving, option), (2, 6))  \n",
       "7     ((is, cost, saving, compared, with), (2, 7))  \n",
       "8   ((evidence, supports, the, case, for), (2, 8))  \n",
       "9   ((supports, the, case, for, adopting), (2, 8))  "
      ]
     },
     "execution_count": 13,
     "metadata": {},
     "output_type": "execute_result"
    }
   ],
   "source": [
    "find_unique_grams(train_df,5,10)"
   ]
  },
  {
   "cell_type": "markdown",
   "id": "c651a0fd-578a-4e3e-b44f-882e5dcdf073",
   "metadata": {},
   "source": [
    "## Feature Engineering"
   ]
  },
  {
   "cell_type": "code",
   "execution_count": 136,
   "id": "3c9c2316-9867-4dde-99fe-e07d76d0377c",
   "metadata": {
    "tags": []
   },
   "outputs": [],
   "source": [
    "from sklearn.svm import LinearSVC, SVC\n",
    "from sklearn.model_selection import train_test_split,GridSearchCV\n",
    "from sklearn.metrics import accuracy_score\n",
    "from sklearn.multiclass import OneVsOneClassifier, OneVsRestClassifier"
   ]
  },
  {
   "cell_type": "code",
   "execution_count": 149,
   "id": "e37d0a9f-d541-4846-92ba-85da321d813a",
   "metadata": {},
   "outputs": [],
   "source": [
    "# train test split\n",
    "X_train, X_test, y_train, y_test = train_test_split(train_df[['Content','title']], train_df['JNJ Classification (manual)'], test_size=0.25, stratify=train_df['JNJ Classification (manual)'])"
   ]
  },
  {
   "cell_type": "code",
   "execution_count": 150,
   "id": "2220b9b7-f469-4b2b-91fb-9ce82747dc1d",
   "metadata": {
    "tags": []
   },
   "outputs": [
    {
     "name": "stderr",
     "output_type": "stream",
     "text": [
      "/var/folders/g4/f_rwknw54f999f7fy8ttscqh0000gn/T/ipykernel_68160/616014495.py:2: SettingWithCopyWarning: \n",
      "A value is trying to be set on a copy of a slice from a DataFrame.\n",
      "Try using .loc[row_indexer,col_indexer] = value instead\n",
      "\n",
      "See the caveats in the documentation: https://pandas.pydata.org/pandas-docs/stable/user_guide/indexing.html#returning-a-view-versus-a-copy\n",
      "  df['ngrams'] = df.apply(extract_row_grams, args=('title', 'Content', num_gram), axis=1)\n",
      "/var/folders/g4/f_rwknw54f999f7fy8ttscqh0000gn/T/ipykernel_68160/616014495.py:2: SettingWithCopyWarning: \n",
      "A value is trying to be set on a copy of a slice from a DataFrame.\n",
      "Try using .loc[row_indexer,col_indexer] = value instead\n",
      "\n",
      "See the caveats in the documentation: https://pandas.pydata.org/pandas-docs/stable/user_guide/indexing.html#returning-a-view-versus-a-copy\n",
      "  df['ngrams'] = df.apply(extract_row_grams, args=('title', 'Content', num_gram), axis=1)\n",
      "/var/folders/g4/f_rwknw54f999f7fy8ttscqh0000gn/T/ipykernel_68160/616014495.py:2: SettingWithCopyWarning: \n",
      "A value is trying to be set on a copy of a slice from a DataFrame.\n",
      "Try using .loc[row_indexer,col_indexer] = value instead\n",
      "\n",
      "See the caveats in the documentation: https://pandas.pydata.org/pandas-docs/stable/user_guide/indexing.html#returning-a-view-versus-a-copy\n",
      "  df['ngrams'] = df.apply(extract_row_grams, args=('title', 'Content', num_gram), axis=1)\n"
     ]
    }
   ],
   "source": [
    "# Preprocessing\n",
    "data = {'Content': X_train['Content'], 'title': X_train['title'],'JNJ Classification (manual)': y_train}\n",
    "df = pd.DataFrame(data)\n",
    "res = find_unique_grams(df,3,20)"
   ]
  },
  {
   "cell_type": "code",
   "execution_count": 151,
   "id": "dfbefb5b-7c1b-4e86-b91b-4519e5cacffa",
   "metadata": {},
   "outputs": [
    {
     "name": "stderr",
     "output_type": "stream",
     "text": [
      "/var/folders/g4/f_rwknw54f999f7fy8ttscqh0000gn/T/ipykernel_68160/1504102485.py:3: FutureWarning: DataFrame.applymap has been deprecated. Use DataFrame.map instead.\n",
      "  top10 = top10.applymap(lambda x: list(x[0]))\n",
      "/var/folders/g4/f_rwknw54f999f7fy8ttscqh0000gn/T/ipykernel_68160/1504102485.py:4: FutureWarning: DataFrame.applymap has been deprecated. Use DataFrame.map instead.\n",
      "  top10 = top10.applymap(lambda x: ' '.join(x))\n"
     ]
    },
    {
     "data": {
      "text/html": [
       "<div>\n",
       "<style scoped>\n",
       "    .dataframe tbody tr th:only-of-type {\n",
       "        vertical-align: middle;\n",
       "    }\n",
       "\n",
       "    .dataframe tbody tr th {\n",
       "        vertical-align: top;\n",
       "    }\n",
       "\n",
       "    .dataframe thead th {\n",
       "        text-align: right;\n",
       "    }\n",
       "</style>\n",
       "<table border=\"1\" class=\"dataframe\">\n",
       "  <thead>\n",
       "    <tr style=\"text-align: right;\">\n",
       "      <th></th>\n",
       "      <th>Treatment Option</th>\n",
       "      <th>Not Supporting Routine Use</th>\n",
       "      <th>Routine Use</th>\n",
       "    </tr>\n",
       "  </thead>\n",
       "  <tbody>\n",
       "    <tr>\n",
       "      <th>0</th>\n",
       "      <td>as an option</td>\n",
       "      <td>shows promise for</td>\n",
       "      <td>by an average</td>\n",
       "    </tr>\n",
       "    <tr>\n",
       "      <th>1</th>\n",
       "      <td>should be considered</td>\n",
       "      <td>is not enough</td>\n",
       "      <td>average of per</td>\n",
       "    </tr>\n",
       "    <tr>\n",
       "      <th>2</th>\n",
       "      <td>an option for</td>\n",
       "      <td>there is not</td>\n",
       "      <td>an average of</td>\n",
       "    </tr>\n",
       "    <tr>\n",
       "      <th>3</th>\n",
       "      <td>be considered as</td>\n",
       "      <td>not enough good</td>\n",
       "      <td>central catheters piccs</td>\n",
       "    </tr>\n",
       "    <tr>\n",
       "      <th>4</th>\n",
       "      <td>recommended as an</td>\n",
       "      <td>enough good quality</td>\n",
       "      <td>piccs with an</td>\n",
       "    </tr>\n",
       "    <tr>\n",
       "      <th>5</th>\n",
       "      <td>considered as an</td>\n",
       "      <td>good quality evidence</td>\n",
       "      <td>peripherally inserted central</td>\n",
       "    </tr>\n",
       "    <tr>\n",
       "      <th>6</th>\n",
       "      <td>for adopting the</td>\n",
       "      <td>to support the</td>\n",
       "      <td>medium to long</td>\n",
       "    </tr>\n",
       "    <tr>\n",
       "      <th>7</th>\n",
       "      <td>for people with</td>\n",
       "      <td>support the case</td>\n",
       "      <td>option for securing</td>\n",
       "    </tr>\n",
       "    <tr>\n",
       "      <th>8</th>\n",
       "      <td>is estimated to</td>\n",
       "      <td>case for routine</td>\n",
       "      <td>securing peripherally inserted</td>\n",
       "    </tr>\n",
       "    <tr>\n",
       "      <th>9</th>\n",
       "      <td>cost saving compared</td>\n",
       "      <td>for routine adoption</td>\n",
       "      <td>catheters piccs with</td>\n",
       "    </tr>\n",
       "  </tbody>\n",
       "</table>\n",
       "</div>"
      ],
      "text/plain": [
       "       Treatment Option Not Supporting Routine Use  \\\n",
       "0          as an option          shows promise for   \n",
       "1  should be considered              is not enough   \n",
       "2         an option for               there is not   \n",
       "3      be considered as            not enough good   \n",
       "4     recommended as an        enough good quality   \n",
       "5      considered as an      good quality evidence   \n",
       "6      for adopting the             to support the   \n",
       "7       for people with           support the case   \n",
       "8       is estimated to           case for routine   \n",
       "9  cost saving compared       for routine adoption   \n",
       "\n",
       "                      Routine Use  \n",
       "0                   by an average  \n",
       "1                  average of per  \n",
       "2                   an average of  \n",
       "3         central catheters piccs  \n",
       "4                   piccs with an  \n",
       "5   peripherally inserted central  \n",
       "6                  medium to long  \n",
       "7             option for securing  \n",
       "8  securing peripherally inserted  \n",
       "9            catheters piccs with  "
      ]
     },
     "execution_count": 151,
     "metadata": {},
     "output_type": "execute_result"
    }
   ],
   "source": [
    "# Feature Selection\n",
    "top10 = res.iloc[:10]\n",
    "top10 = top10.applymap(lambda x: list(x[0]))\n",
    "top10 = top10.applymap(lambda x: ' '.join(x))\n",
    "top10"
   ]
  },
  {
   "cell_type": "code",
   "execution_count": 152,
   "id": "11d59491-ca56-4841-ad77-f66b2d299474",
   "metadata": {},
   "outputs": [],
   "source": [
    "# get feature list\n",
    "gram_list = top10.values.flatten().tolist()"
   ]
  },
  {
   "cell_type": "code",
   "execution_count": 153,
   "id": "a2fdcc4e-6c0e-4bc7-884e-d247ea1e1b12",
   "metadata": {},
   "outputs": [
    {
     "name": "stderr",
     "output_type": "stream",
     "text": [
      "/var/folders/g4/f_rwknw54f999f7fy8ttscqh0000gn/T/ipykernel_68160/892397940.py:9: SettingWithCopyWarning: \n",
      "A value is trying to be set on a copy of a slice from a DataFrame.\n",
      "Try using .loc[row_indexer,col_indexer] = value instead\n",
      "\n",
      "See the caveats in the documentation: https://pandas.pydata.org/pandas-docs/stable/user_guide/indexing.html#returning-a-view-versus-a-copy\n",
      "  X[gram] = X['Content'].apply(contains_gram, gram=gram)\n"
     ]
    }
   ],
   "source": [
    "# construct input data matrix\n",
    "def contains_gram(content, gram):\n",
    "    return int(gram in content)\n",
    "\n",
    "X = train_df[['Content','title']]\n",
    "y = train_df[['JNJ Classification (manual)']]\n",
    "# Loop through each gram and apply the contains_gram function to create the new columns\n",
    "for gram in gram_list:\n",
    "    X[gram] = X['Content'].apply(contains_gram, gram=gram)\n",
    "    X_train[gram] = X_train['Content'].apply(contains_gram, gram=gram)\n",
    "    X_test[gram] = X_test['Content'].apply(contains_gram, gram=gram)\n",
    "X_train = X_train.drop(['title','Content'],axis=1)\n",
    "X_test = X_test.drop(['title','Content'],axis=1)\n",
    "X = X.drop(['title','Content'],axis=1)"
   ]
  },
  {
   "cell_type": "code",
   "execution_count": 155,
   "id": "280cfd45-2f67-4735-936c-815662f47fe0",
   "metadata": {},
   "outputs": [
    {
     "name": "stdout",
     "output_type": "stream",
     "text": [
      "OVR Train Accuracy: 0.8541666666666666\n",
      "OVR Test Accuracy: 0.9411764705882353\n"
     ]
    }
   ],
   "source": [
    "# Instantiate classifier\n",
    "ovr = OneVsRestClassifier(SVC(kernel = \"rbf\", class_weight='balanced')).fit(X_train, y_train)\n",
    "\n",
    "# Predict on train and test set\n",
    "ovr_pred_train = ovr.predict(X_train)\n",
    "ovr_pred_test = ovr.predict(X_test)\n",
    "\n",
    "# Report accuracy\n",
    "print(\"OVR Train Accuracy:\", accuracy_score(y_train, ovr_pred_train))\n",
    "print(\"OVR Test Accuracy:\", accuracy_score(y_test, ovr_pred_test))"
   ]
  },
  {
   "cell_type": "code",
   "execution_count": 156,
   "id": "439a572f-4bea-47b4-a5a5-d22b3f5885a5",
   "metadata": {},
   "outputs": [
    {
     "name": "stdout",
     "output_type": "stream",
     "text": [
      "                            precision    recall  f1-score   support\n",
      "\n",
      "Not Supporting Routine Use       0.86      1.00      0.92         6\n",
      "               Routine Use       0.00      0.00      0.00         1\n",
      "          Treatment Option       1.00      1.00      1.00        10\n",
      "\n",
      "                  accuracy                           0.94        17\n",
      "                 macro avg       0.62      0.67      0.64        17\n",
      "              weighted avg       0.89      0.94      0.91        17\n",
      "\n"
     ]
    },
    {
     "name": "stderr",
     "output_type": "stream",
     "text": [
      "/Users/tracy/opt/anaconda3/envs/coms4111/lib/python3.11/site-packages/sklearn/metrics/_classification.py:1471: UndefinedMetricWarning: Precision and F-score are ill-defined and being set to 0.0 in labels with no predicted samples. Use `zero_division` parameter to control this behavior.\n",
      "  _warn_prf(average, modifier, msg_start, len(result))\n",
      "/Users/tracy/opt/anaconda3/envs/coms4111/lib/python3.11/site-packages/sklearn/metrics/_classification.py:1471: UndefinedMetricWarning: Precision and F-score are ill-defined and being set to 0.0 in labels with no predicted samples. Use `zero_division` parameter to control this behavior.\n",
      "  _warn_prf(average, modifier, msg_start, len(result))\n",
      "/Users/tracy/opt/anaconda3/envs/coms4111/lib/python3.11/site-packages/sklearn/metrics/_classification.py:1471: UndefinedMetricWarning: Precision and F-score are ill-defined and being set to 0.0 in labels with no predicted samples. Use `zero_division` parameter to control this behavior.\n",
      "  _warn_prf(average, modifier, msg_start, len(result))\n"
     ]
    }
   ],
   "source": [
    "from sklearn.metrics import accuracy_score,classification_report\n",
    "print(classification_report(y_test, ovr_pred_test))"
   ]
  },
  {
   "cell_type": "code",
   "execution_count": 157,
   "id": "3866396a-9b1d-4e72-bfd1-ba4238d756ec",
   "metadata": {},
   "outputs": [
    {
     "data": {
      "text/plain": [
       "array([[ 6,  0,  0],\n",
       "       [ 1,  0,  0],\n",
       "       [ 0,  0, 10]])"
      ]
     },
     "execution_count": 157,
     "metadata": {},
     "output_type": "execute_result"
    }
   ],
   "source": [
    "from sklearn.metrics import confusion_matrix\n",
    "confusion_matrix(y_test, ovr_pred_test)"
   ]
  },
  {
   "cell_type": "code",
   "execution_count": 159,
   "id": "847d54df-9ce1-4c35-a470-4628ca44b401",
   "metadata": {
    "tags": []
   },
   "outputs": [
    {
     "data": {
      "text/plain": [
       "<Figure size 400x400 with 0 Axes>"
      ]
     },
     "metadata": {},
     "output_type": "display_data"
    },
    {
     "data": {
      "image/png": "[encoded data removed]",
      "text/plain": [
       "<Figure size 640x480 with 1 Axes>"
      ]
     },
     "metadata": {},
     "output_type": "display_data"
    }
   ],
   "source": [
    "import numpy as np\n",
    "import matplotlib.pyplot as plt\n",
    "import seaborn as sns\n",
    "from sklearn.metrics import confusion_matrix\n",
    "import textwrap\n",
    "\n",
    "cm = confusion_matrix(y, ovr.predict(X))\n",
    "\n",
    "plt.figure(figsize=(4, 4))\n",
    "\n",
    "x_labels = ['Not Supporting Routine Use', \\\n",
    "                         'Routine Use', \\\n",
    "                        'Treatment Option',\\\n",
    "                        'Undecided']\n",
    "\n",
    "# Wrap x-axis labels\n",
    "wrapped_labels = [textwrap.fill(label, width=10) for label in x_labels]\n",
    "plt.show()\n",
    "\n",
    "ax = sns.heatmap(cm, annot=True, fmt=\"d\", cmap=\"Blues\", cbar=False, xticklabels=wrapped_labels, \n",
    "            yticklabels=wrapped_labels)\n",
    "\n",
    "ax.set_xticklabels(ax.get_xticklabels(), rotation=35, ha='right')\n",
    "\n",
    "\n",
    "# Rotate y-axis labels\n",
    "plt.yticks(rotation=0)\n",
    "\n",
    "\n",
    "plt.xlabel('Predicted Label')\n",
    "plt.ylabel('True Label')\n",
    "plt.show()"
   ]
  },
  {
   "cell_type": "code",
   "execution_count": 160,
   "id": "5f38ef60-d4d7-475b-80d6-1f2f5aa1186b",
   "metadata": {
    "tags": []
   },
   "outputs": [
    {
     "name": "stdout",
     "output_type": "stream",
     "text": [
      "                            precision    recall  f1-score   support\n",
      "\n",
      "Not Supporting Routine Use       0.76      0.96      0.85        23\n",
      "               Routine Use       1.00      0.60      0.75         5\n",
      "          Treatment Option       0.97      0.86      0.91        37\n",
      "\n",
      "                  accuracy                           0.88        65\n",
      "                 macro avg       0.91      0.81      0.84        65\n",
      "              weighted avg       0.90      0.88      0.88        65\n",
      "\n"
     ]
    }
   ],
   "source": [
    "print(classification_report(y, ovr.predict(X)))"
   ]
  },
  {
   "cell_type": "code",
   "execution_count": null,
   "id": "bb013b40-7a15-4dec-9bfa-e198e47d896e",
   "metadata": {},
   "outputs": [],
   "source": []
  }
 ],
 "metadata": {
  "kernelspec": {
   "display_name": "Python 3 (ipykernel)",
   "language": "python",
   "name": "python3"
  },
  "language_info": {
   "codemirror_mode": {
    "name": "ipython",
    "version": 3
   },
   "file_extension": ".py",
   "mimetype": "text/x-python",
   "name": "python",
   "nbconvert_exporter": "python",
   "pygments_lexer": "ipython3",
   "version": "3.11.5"
  }
 },
 "nbformat": 4,
 "nbformat_minor": 5
}
